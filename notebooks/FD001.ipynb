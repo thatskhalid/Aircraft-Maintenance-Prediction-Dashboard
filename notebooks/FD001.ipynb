{
 "cells": [
  {
   "cell_type": "code",
   "execution_count": 14,
   "id": "b15ca113",
   "metadata": {},
   "outputs": [
    {
     "name": "stdout",
     "output_type": "stream",
     "text": [
      "   unit_number  time_in_cycles  op_setting_1  op_setting_2  op_setting_3  \\\n",
      "0            1               1       -0.0007       -0.0004         100.0   \n",
      "1            1               2        0.0019       -0.0003         100.0   \n",
      "2            1               3       -0.0043        0.0003         100.0   \n",
      "3            1               4        0.0007        0.0000         100.0   \n",
      "4            1               5       -0.0019       -0.0002         100.0   \n",
      "\n",
      "   sensor_1  sensor_2  sensor_3  sensor_4  sensor_5  ...  sensor_12  \\\n",
      "0    518.67    641.82   1589.70   1400.60     14.62  ...     521.66   \n",
      "1    518.67    642.15   1591.82   1403.14     14.62  ...     522.28   \n",
      "2    518.67    642.35   1587.99   1404.20     14.62  ...     522.42   \n",
      "3    518.67    642.35   1582.79   1401.87     14.62  ...     522.86   \n",
      "4    518.67    642.37   1582.85   1406.22     14.62  ...     522.19   \n",
      "\n",
      "   sensor_13  sensor_14  sensor_15  sensor_16  sensor_17  sensor_18  \\\n",
      "0    2388.02    8138.62     8.4195       0.03        392       2388   \n",
      "1    2388.07    8131.49     8.4318       0.03        392       2388   \n",
      "2    2388.03    8133.23     8.4178       0.03        390       2388   \n",
      "3    2388.08    8133.83     8.3682       0.03        392       2388   \n",
      "4    2388.04    8133.80     8.4294       0.03        393       2388   \n",
      "\n",
      "   sensor_19  sensor_20  sensor_21  \n",
      "0      100.0      39.06    23.4190  \n",
      "1      100.0      39.00    23.4236  \n",
      "2      100.0      38.95    23.3442  \n",
      "3      100.0      38.88    23.3739  \n",
      "4      100.0      38.90    23.4044  \n",
      "\n",
      "[5 rows x 26 columns]\n"
     ]
    }
   ],
   "source": [
    "import pandas as pd\n",
    "\n",
    "# Load dataset\n",
    "column_names = ['unit_number', 'time_in_cycles', 'op_setting_1', 'op_setting_2', 'op_setting_3'] + \\\n",
    "               [f'sensor_{i}' for i in range(1, 22)]\n",
    "\n",
    "df = pd.read_csv('C:/Users/khali/Desktop/Coding Workspace/Aircraft Maintenance Prediction Dashboard/data/train_FD001.txt', sep=' ', header=None)\n",
    "df.dropna(axis=1, inplace=True)  # Drop empty columns from extra whitespace\n",
    "df.columns = column_names\n",
    "\n",
    "print(df.head())\n"
   ]
  },
  {
   "cell_type": "code",
   "execution_count": 15,
   "id": "44a92048",
   "metadata": {},
   "outputs": [
    {
     "name": "stdout",
     "output_type": "stream",
     "text": [
      "   unit_number  time_in_cycles  RUL\n",
      "0            1               1  191\n",
      "1            1               2  190\n",
      "2            1               3  189\n",
      "3            1               4  188\n",
      "4            1               5  187\n"
     ]
    }
   ],
   "source": [
    "# Add RUL column\n",
    "rul_df = df.groupby('unit_number')['time_in_cycles'].max().reset_index()\n",
    "rul_df.columns = ['unit_number', 'max_cycle']\n",
    "df = df.merge(rul_df, on='unit_number')\n",
    "df['RUL'] = df['max_cycle'] - df['time_in_cycles']\n",
    "df.drop(columns=['max_cycle'], inplace=True)\n",
    "\n",
    "print(df[['unit_number', 'time_in_cycles', 'RUL']].head())\n"
   ]
  }
 ],
 "metadata": {
  "kernelspec": {
   "display_name": "Python 3",
   "language": "python",
   "name": "python3"
  },
  "language_info": {
   "codemirror_mode": {
    "name": "ipython",
    "version": 3
   },
   "file_extension": ".py",
   "mimetype": "text/x-python",
   "name": "python",
   "nbconvert_exporter": "python",
   "pygments_lexer": "ipython3",
   "version": "3.12.5"
  }
 },
 "nbformat": 4,
 "nbformat_minor": 5
}
